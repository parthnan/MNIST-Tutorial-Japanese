{
 "cells": [
  {
   "cell_type": "markdown",
   "metadata": {},
   "source": [
    "### 分類問題 (classification)\n",
    "### MNIST data: 手書き数字認識 (hand-written character of digits)\n",
    "MNIST: Modified National Institute of Standards and Technology database\n",
    "\n",
    "NIST: アメリカ国立標準技術研究所 (米商務省機関，情報技術関連では暗号の AES やハッシュの SHS (SHA-0,1,2,3) 等．DES はこの前身機関が標準化)\n",
    "<img src=\"01-MNIST1.png\">\n",
    "\n",
    "## 深層学習をつかってみる (deep neural network, or deep learning)\n"
   ]
  },
  {
   "cell_type": "markdown",
   "metadata": {},
   "source": [
    "## Keras / TensorFlow\n",
    "- TensorFlow は柔軟性が高いが，既存のニューラルネットワークを定義は困難である．\n",
    "- Keras は，畳み込みニューラルネットなど，深層学習として広く知られているものを簡潔に定義することができる．\n",
    "- 階層型ニューラルネットの層（レイヤー）構造を直観的に構築できる．\n",
    "\n",
    "### Keras でニューラルネットを構築する．\n",
    "パーセプトロン（旧来からのニューラルネット），および畳み込みニューラルネット（近年の深層学習）のためのライブラリを読み込む．\n",
    "\n"
   ]
  },
  {
   "cell_type": "code",
   "execution_count": 1,
   "metadata": {},
   "outputs": [
    {
     "name": "stderr",
     "output_type": "stream",
     "text": [
      "Using TensorFlow backend.\n"
     ]
    }
   ],
   "source": [
    "import os\n",
    "os.environ['OMP_NUM_THREADS'] = '1'\n",
    "os.environ['KMP_AFFINITY'] = 'disabled'\n",
    "import keras\n",
    "import tensorflow as tf\n",
    "from keras.datasets import mnist\n",
    "from keras.models import Sequential\n",
    "from keras.layers import Dense, Dropout\n",
    "keras.backend.set_session(keras.backend.tf.Session(config=keras.backend.tf.ConfigProto(intra_op_parallelism_threads=1, inter_op_parallelism_threads=1)))\n",
    "import warnings\n",
    "warnings.filterwarnings('ignore')\n",
    "os.environ['TF_CPP_MIN_LOG_LEVEL'] = '3'"
   ]
  },
  {
   "cell_type": "markdown",
   "metadata": {},
   "source": [
    "#### クラスの数 (10)を定義しておきます．\n",
    "- MNIST の分類クラスは，数字「0」～「9」の10クラス"
   ]
  },
  {
   "cell_type": "code",
   "execution_count": 3,
   "metadata": {},
   "outputs": [],
   "source": [
    "n_classes=10"
   ]
  },
  {
   "cell_type": "markdown",
   "metadata": {},
   "source": [
    "### MNIST データのロード\n",
    "- 下記のように，学習データの入力 x, 出力 y, テストデータの入力 x, 出力 y をまとめて代入\n",
    "- データはサーバのファイル /home/mnist/mnist.npz にある\n",
    "- .npz は NumPy の配列 ndarray の圧縮形式\n",
    "- x_train : 学習用入力データ\n",
    "- y_train : 学習用出力データ\n",
    "- x_test: テスト用入力データ\n",
    "- y_test: テスト用出力データ\n"
   ]
  },
  {
   "cell_type": "code",
   "execution_count": 4,
   "metadata": {},
   "outputs": [],
   "source": [
    "(x_train, y_train), (x_test, y_test) = mnist.load_data(path=\"/home/mnist/mnist.npz\")"
   ]
  },
  {
   "cell_type": "markdown",
   "metadata": {},
   "source": [
    "### データがどのような形式か確認\n",
    "- Python のオブジェクトの型を調べる関数 type()"
   ]
  },
  {
   "cell_type": "code",
   "execution_count": 11,
   "metadata": {},
   "outputs": [
    {
     "data": {
      "text/plain": [
       "numpy.ndarray"
      ]
     },
     "execution_count": 11,
     "metadata": {},
     "output_type": "execute_result"
    }
   ],
   "source": [
    "type(x_train)\n"
   ]
  },
  {
   "cell_type": "code",
   "execution_count": 6,
   "metadata": {},
   "outputs": [
    {
     "data": {
      "text/plain": [
       "numpy.ndarray"
      ]
     },
     "execution_count": 6,
     "metadata": {},
     "output_type": "execute_result"
    }
   ],
   "source": [
    "type(x_test)"
   ]
  },
  {
   "cell_type": "code",
   "execution_count": 7,
   "metadata": {},
   "outputs": [
    {
     "data": {
      "text/plain": [
       "numpy.ndarray"
      ]
     },
     "execution_count": 7,
     "metadata": {},
     "output_type": "execute_result"
    }
   ],
   "source": [
    "type(y_train)"
   ]
  },
  {
   "cell_type": "markdown",
   "metadata": {},
   "source": [
    "mnistのデータは，NumPy の n次元配列 (ndarray) であることがわかる．"
   ]
  },
  {
   "cell_type": "markdown",
   "metadata": {},
   "source": [
    "### 配列の次元（形）を把握"
   ]
  },
  {
   "cell_type": "code",
   "execution_count": 12,
   "metadata": {},
   "outputs": [
    {
     "data": {
      "text/plain": [
       "(60000, 28, 28)"
      ]
     },
     "execution_count": 12,
     "metadata": {},
     "output_type": "execute_result"
    }
   ],
   "source": [
    "x_train.shape"
   ]
  },
  {
   "cell_type": "code",
   "execution_count": 13,
   "metadata": {},
   "outputs": [
    {
     "data": {
      "text/plain": [
       "(10000, 28, 28)"
      ]
     },
     "execution_count": 13,
     "metadata": {},
     "output_type": "execute_result"
    }
   ],
   "source": [
    "x_test.shape"
   ]
  },
  {
   "cell_type": "code",
   "execution_count": 14,
   "metadata": {},
   "outputs": [
    {
     "data": {
      "text/plain": [
       "(60000,)"
      ]
     },
     "execution_count": 14,
     "metadata": {},
     "output_type": "execute_result"
    }
   ],
   "source": [
    "y_train.shape"
   ]
  },
  {
   "cell_type": "code",
   "execution_count": 15,
   "metadata": {},
   "outputs": [
    {
     "data": {
      "text/plain": [
       "(10000,)"
      ]
     },
     "execution_count": 15,
     "metadata": {},
     "output_type": "execute_result"
    }
   ],
   "source": [
    "y_test.shape"
   ]
  },
  {
   "cell_type": "code",
   "execution_count": 20,
   "metadata": {},
   "outputs": [
    {
     "data": {
      "text/plain": [
       "255"
      ]
     },
     "execution_count": 20,
     "metadata": {},
     "output_type": "execute_result"
    }
   ],
   "source": [
    "x_train[0].max()"
   ]
  },
  {
   "cell_type": "code",
   "execution_count": 18,
   "metadata": {},
   "outputs": [
    {
     "data": {
      "text/plain": [
       "0"
      ]
     },
     "execution_count": 18,
     "metadata": {},
     "output_type": "execute_result"
    }
   ],
   "source": [
    "x_train[0].min()"
   ]
  },
  {
   "cell_type": "code",
   "execution_count": 19,
   "metadata": {},
   "outputs": [
    {
     "data": {
      "text/plain": [
       "35.108418367346935"
      ]
     },
     "execution_count": 19,
     "metadata": {},
     "output_type": "execute_result"
    }
   ],
   "source": [
    "x_train[0].mean()"
   ]
  },
  {
   "cell_type": "markdown",
   "metadata": {},
   "source": [
    "### 同様に，出力も見てみましょう．\n",
    "- y_trainを見てみる"
   ]
  },
  {
   "cell_type": "code",
   "execution_count": 21,
   "metadata": {},
   "outputs": [
    {
     "data": {
      "text/plain": [
       "array([5, 0, 4, ..., 5, 6, 8], dtype=uint8)"
      ]
     },
     "execution_count": 21,
     "metadata": {},
     "output_type": "execute_result"
    }
   ],
   "source": [
    "y_train"
   ]
  },
  {
   "cell_type": "markdown",
   "metadata": {},
   "source": [
    "「5」, 「0」，「4」など，画像のラベルである数字が60000個ある"
   ]
  },
  {
   "cell_type": "markdown",
   "metadata": {},
   "source": [
    "## Matplotlib の機能を使ってデータの画像を見てみる\n",
    "- Matplotlib は，python用グラフ描画ツールです．\n",
    "- `imshow()` 関数を用いることで，NumPy の2次元配列をそのまま画像としてみることができます\n",
    "- plt.imshow(x_train[0]) としてみる"
   ]
  },
  {
   "cell_type": "code",
   "execution_count": 24,
   "metadata": {},
   "outputs": [
    {
     "data": {
      "image/png": "[encoded data removed]",
      "text/plain": [
       "<Figure size 432x288 with 1 Axes>"
      ]
     },
     "metadata": {
      "needs_background": "light"
     },
     "output_type": "display_data"
    }
   ],
   "source": [
    "import matplotlib.pyplot as plt\n",
    "plt.imshow(x_train[0])\n",
    "plt.show()"
   ]
  },
  {
   "cell_type": "markdown",
   "metadata": {},
   "source": [
    "各要素に色をつけて画像として表示\n",
    "\n",
    "黄色と紫，どちらが0でどちらが255か？\n",
    "\n",
    "`plt.colorbar()`を入れるとカラーバーを表示してくれます"
   ]
  },
  {
   "cell_type": "code",
   "execution_count": 23,
   "metadata": {},
   "outputs": [
    {
     "data": {
      "image/png": "[encoded data removed]",
      "text/plain": [
       "<Figure size 432x288 with 2 Axes>"
      ]
     },
     "metadata": {
      "needs_background": "light"
     },
     "output_type": "display_data"
    }
   ],
   "source": [
    "plt.imshow(x_train[0])\n",
    "plt.colorbar()\n",
    "plt.show()"
   ]
  },
  {
   "cell_type": "markdown",
   "metadata": {},
   "source": [
    "- デフォルトの色が少し変なので，カラーマップをグレースケールにする"
   ]
  },
  {
   "cell_type": "code",
   "execution_count": 25,
   "metadata": {},
   "outputs": [
    {
     "data": {
      "image/png": "[encoded data removed]",
      "text/plain": [
       "<Figure size 432x288 with 2 Axes>"
      ]
     },
     "metadata": {
      "needs_background": "light"
     },
     "output_type": "display_data"
    }
   ],
   "source": [
    "plt.imshow(x_train[0], cmap='gray')\n",
    "plt.colorbar()\n",
    "plt.show()"
   ]
  },
  {
   "cell_type": "markdown",
   "metadata": {},
   "source": [
    "- さらに，0 が黒，255 が白となっているのを，白黒反転してみる．"
   ]
  },
  {
   "cell_type": "code",
   "execution_count": 26,
   "metadata": {},
   "outputs": [
    {
     "data": {
      "image/png": "[encoded data removed]",
      "text/plain": [
       "<Figure size 432x288 with 2 Axes>"
      ]
     },
     "metadata": {
      "needs_background": "light"
     },
     "output_type": "display_data"
    }
   ],
   "source": [
    "plt.imshow(x_train[0], cmap='gray_r')\n",
    "plt.colorbar()\n",
    "plt.show()"
   ]
  },
  {
   "cell_type": "markdown",
   "metadata": {},
   "source": [
    "- 出力ラベルを確認すると確かに「5」である．\n"
   ]
  },
  {
   "cell_type": "code",
   "execution_count": 27,
   "metadata": {},
   "outputs": [
    {
     "data": {
      "text/plain": [
       "5"
      ]
     },
     "execution_count": 27,
     "metadata": {},
     "output_type": "execute_result"
    }
   ],
   "source": [
    "y_train[0]"
   ]
  },
  {
   "cell_type": "markdown",
   "metadata": {},
   "source": [
    "次に，入力訓練データ x_train, 入力テストデータ x_test　を 28x28 の2次元配列から，784要素の1次元配列に変換します．\n",
    "\n",
    "これは，学習器に，全画素を独立変数（＝説明変数＝入力の変数）として入力するためです．\n",
    "\n",
    "（配列のフラット化と言います）\n",
    "\n",
    "ここまでを実行するコードは下記のようになります．\n",
    "\n",
    "最後に，Keras に入力するために，単精度浮動小数点 (32 bit)に変換する．"
   ]
  },
  {
   "cell_type": "code",
   "execution_count": 28,
   "metadata": {},
   "outputs": [],
   "source": [
    "data_size=1000\n",
    "x_train_fl = x_train.reshape(60000, 784)\n",
    "x_train1 = x_train_fl[0:data_size]\n",
    "x_train1 = x_train1.astype('float32')"
   ]
  },
  {
   "cell_type": "markdown",
   "metadata": {},
   "source": [
    "x_train1 と x_test1 を shape 属性で確認"
   ]
  },
  {
   "cell_type": "code",
   "execution_count": 29,
   "metadata": {},
   "outputs": [],
   "source": [
    "x_test_fl = x_test.reshape(10000, 784)\n",
    "x_test1 = x_test_fl[0:data_size]\n",
    "x_test1 = x_test1.astype('float32')"
   ]
  },
  {
   "cell_type": "code",
   "execution_count": 31,
   "metadata": {},
   "outputs": [
    {
     "data": {
      "text/plain": [
       "(1000, 784)"
      ]
     },
     "execution_count": 31,
     "metadata": {},
     "output_type": "execute_result"
    }
   ],
   "source": [
    "x_train1.shape"
   ]
  },
  {
   "cell_type": "code",
   "execution_count": 32,
   "metadata": {},
   "outputs": [
    {
     "data": {
      "text/plain": [
       "(1000, 784)"
      ]
     },
     "execution_count": 32,
     "metadata": {},
     "output_type": "execute_result"
    }
   ],
   "source": [
    "x_test1.shape"
   ]
  },
  {
   "cell_type": "markdown",
   "metadata": {},
   "source": [
    "両者とも，(1000, 784) (784要素の1次元配列が，1000個集まった，1000x784 2次元配列）であればよい"
   ]
  },
  {
   "cell_type": "markdown",
   "metadata": {},
   "source": [
    "出力の変数 y は，0-9 の数値データになっているが，実際にはカテゴリカル（「0」～「9」のクラス）とする必要があり，ニューラルネットで多クラス分類するためには，カテゴリカルにする必要がある（ダミー変数化と同様の変換）ので，それを行う．One Hot Encodingされたものは`y_train_c`"
   ]
  },
  {
   "cell_type": "code",
   "execution_count": 30,
   "metadata": {},
   "outputs": [],
   "source": [
    "y_train_c = keras.utils.to_categorical(y_train, n_classes)\n",
    "y_train_c = y_train_c[0:data_size]\n",
    "y_test_c = keras.utils.to_categorical(y_test, n_classes)\n",
    "y_test_c = y_test_c[0:data_size]"
   ]
  },
  {
   "cell_type": "markdown",
   "metadata": {},
   "source": [
    "今度はカテゴリ化した `y_train_c` の形を確認"
   ]
  },
  {
   "cell_type": "code",
   "execution_count": 34,
   "metadata": {},
   "outputs": [
    {
     "data": {
      "text/plain": [
       "array([[0., 0., 0., ..., 0., 0., 0.],\n",
       "       [1., 0., 0., ..., 0., 0., 0.],\n",
       "       [0., 0., 0., ..., 0., 0., 0.],\n",
       "       ...,\n",
       "       [1., 0., 0., ..., 0., 0., 0.],\n",
       "       [0., 0., 0., ..., 0., 0., 0.],\n",
       "       [0., 0., 0., ..., 0., 0., 0.]], dtype=float32)"
      ]
     },
     "execution_count": 34,
     "metadata": {},
     "output_type": "execute_result"
    }
   ],
   "source": [
    "y_train_c"
   ]
  },
  {
   "cell_type": "markdown",
   "metadata": {},
   "source": [
    "次に `y_train_c[0]` を確認でき、`y_train[0]`は正しく変換されたと言える！"
   ]
  },
  {
   "cell_type": "code",
   "execution_count": 36,
   "metadata": {},
   "outputs": [
    {
     "data": {
      "text/plain": [
       "array([0., 0., 0., 0., 0., 1., 0., 0., 0., 0.], dtype=float32)"
      ]
     },
     "execution_count": 36,
     "metadata": {},
     "output_type": "execute_result"
    }
   ],
   "source": [
    "y_train_c[0]"
   ]
  },
  {
   "cell_type": "markdown",
   "metadata": {},
   "source": [
    "## ニューラルネットモデル作成手順\n",
    "\n",
    "### 単層パーセプトロン (Perceptron)"
   ]
  },
  {
   "cell_type": "markdown",
   "metadata": {},
   "source": [
    "- まず初めに　model名 = Sequential() で定義を始める\n",
    "- 入力が 784 次元\n",
    "- 出力は n_classes (上で定義したもの)の，Dense型の層を1つ作る\n",
    "- 活性化関数 (activation function) をシグモイド関数の多クラス版である，ソフトマックス (softmax) 関数とする"
   ]
  },
  {
   "cell_type": "code",
   "execution_count": 39,
   "metadata": {},
   "outputs": [],
   "source": [
    "perceptron = Sequential()\n",
    "perceptron.add(Dense(n_classes, activation='softmax', input_shape=(784,)))"
   ]
  },
  {
   "cell_type": "markdown",
   "metadata": {},
   "source": [
    "モデルの層構造，ニューロン数を確認．"
   ]
  },
  {
   "cell_type": "code",
   "execution_count": 40,
   "metadata": {
    "scrolled": true
   },
   "outputs": [
    {
     "name": "stdout",
     "output_type": "stream",
     "text": [
      "_________________________________________________________________\n",
      "Layer (type)                 Output Shape              Param #   \n",
      "=================================================================\n",
      "dense_2 (Dense)              (None, 10)                7850      \n",
      "=================================================================\n",
      "Total params: 7,850\n",
      "Trainable params: 7,850\n",
      "Non-trainable params: 0\n",
      "_________________________________________________________________\n"
     ]
    }
   ],
   "source": [
    "perceptron.summary()"
   ]
  },
  {
   "cell_type": "markdown",
   "metadata": {},
   "source": [
    "- dense_1 (Dense) という1行だけが存在\n",
    "- これは，1層だけのニューラルネットワークであることを示している"
   ]
  },
  {
   "cell_type": "markdown",
   "metadata": {},
   "source": [
    "次にモデルを実行可能な状態にコンパイルする．"
   ]
  },
  {
   "cell_type": "code",
   "execution_count": 42,
   "metadata": {},
   "outputs": [],
   "source": [
    "perceptron.compile(loss='categorical_crossentropy',\n",
    "                   optimizer='adam',\n",
    "                   metrics=['accuracy'])"
   ]
  },
  {
   "cell_type": "markdown",
   "metadata": {},
   "source": [
    "## 作成したニューラルネットの学習を行う．\n",
    "- 学習は，関数近似（関数のあてはめ）であるので，「fit」と呼ぶ\n",
    "- model.fit メソッドを使う\n",
    "- さらに，学習過程を後で確認するために，history オブジェクトに学習途中の状態を格納する．\n",
    "- バッチサイズは，32 としておく\n",
    "- エポック数は 8 とする．"
   ]
  },
  {
   "cell_type": "code",
   "execution_count": 53,
   "metadata": {
    "scrolled": true
   },
   "outputs": [
    {
     "name": "stdout",
     "output_type": "stream",
     "text": [
      "Train on 1000 samples, validate on 1000 samples\n",
      "Epoch 1/8\n",
      "1000/1000 [==============================] - 0s 101us/step - loss: 7.5158 - acc: 0.5300 - val_loss: 8.3379 - val_acc: 0.4760\n",
      "Epoch 2/8\n",
      "1000/1000 [==============================] - 0s 87us/step - loss: 7.5284 - acc: 0.5300 - val_loss: 8.1238 - val_acc: 0.4900\n",
      "Epoch 3/8\n",
      "1000/1000 [==============================] - 0s 117us/step - loss: 7.2369 - acc: 0.5480 - val_loss: 8.1421 - val_acc: 0.4900\n",
      "Epoch 4/8\n",
      "1000/1000 [==============================] - 0s 129us/step - loss: 7.1679 - acc: 0.5520 - val_loss: 7.9781 - val_acc: 0.4990\n",
      "Epoch 5/8\n",
      "1000/1000 [==============================] - 0s 106us/step - loss: 7.1107 - acc: 0.5550 - val_loss: 7.9330 - val_acc: 0.5020\n",
      "Epoch 6/8\n",
      "1000/1000 [==============================] - 0s 138us/step - loss: 7.1478 - acc: 0.5550 - val_loss: 7.7360 - val_acc: 0.5150\n",
      "Epoch 7/8\n",
      "1000/1000 [==============================] - 0s 139us/step - loss: 7.1719 - acc: 0.5500 - val_loss: 7.7208 - val_acc: 0.5160\n",
      "Epoch 8/8\n",
      "1000/1000 [==============================] - 0s 118us/step - loss: 7.1547 - acc: 0.5550 - val_loss: 7.8979 - val_acc: 0.5040\n"
     ]
    }
   ],
   "source": [
    "history_perceptron = perceptron.fit(x_train1, y_train_c,\n",
    "                                  batch_size=32,\n",
    "                                  epochs=8,\n",
    "                                  verbose=1,\n",
    "                                  validation_data=(x_test1, y_test_c))"
   ]
  },
  {
   "cell_type": "markdown",
   "metadata": {},
   "source": [
    "モデルをファイルに保存"
   ]
  },
  {
   "cell_type": "code",
   "execution_count": 46,
   "metadata": {},
   "outputs": [],
   "source": [
    "perceptron.save('perceptron.h5')"
   ]
  },
  {
   "cell_type": "markdown",
   "metadata": {},
   "source": [
    "### 認識精度（識別率）を確認する\n",
    "- model.evaluate にテスト入力データと，テスト出力データを指定する．"
   ]
  },
  {
   "cell_type": "code",
   "execution_count": 54,
   "metadata": {},
   "outputs": [
    {
     "name": "stdout",
     "output_type": "stream",
     "text": [
      "1000/1000 [==============================] - 0s 52us/step\n",
      "Test loss: 7.897923828125\n",
      "Test accuracy: 0.504\n"
     ]
    }
   ],
   "source": [
    "score_perceptron = perceptron.evaluate(x_test1, y_test_c, verbose=1)\n",
    "print('Test loss:', score_perceptron[0])\n",
    "print('Test accuracy:', score_perceptron[1])"
   ]
  },
  {
   "cell_type": "markdown",
   "metadata": {},
   "source": [
    "## 上記でセーブしたモデルを予測器として実際に手書き認識させてみる"
   ]
  },
  {
   "cell_type": "markdown",
   "metadata": {},
   "source": [
    "### 評価のためのテストデータを作成"
   ]
  },
  {
   "cell_type": "code",
   "execution_count": 55,
   "metadata": {},
   "outputs": [],
   "source": [
    "predicted = perceptron.predict_classes(x_test1)\n",
    "expected = y_test[0:data_size]"
   ]
  },
  {
   "cell_type": "markdown",
   "metadata": {},
   "source": [
    "### Scikit Learn の metrics クラスを使う"
   ]
  },
  {
   "cell_type": "code",
   "execution_count": 56,
   "metadata": {},
   "outputs": [
    {
     "name": "stdout",
     "output_type": "stream",
     "text": [
      "[[  0   0  38   0   0  37   5   5   0   0]\n",
      " [  0 120   2   0   0   3   0   1   0   0]\n",
      " [  0   5 102   0   0   4   0   4   0   1]\n",
      " [  0   2  14   0   0  85   0   4   0   2]\n",
      " [  0   1  24   0   0  21   7  16   0  41]\n",
      " [  0   1   1   0   0  78   0   5   0   2]\n",
      " [  0   0  12   1   0   6  65   3   0   0]\n",
      " [  0   1   6   0   0   2   0  86   0   4]\n",
      " [  0   3  24   0   0  51   1   6   0   4]\n",
      " [  0   0   4   0   0   9   0  28   0  53]]\n",
      "              precision    recall  f1-score   support\n",
      "\n",
      "           0       0.00      0.00      0.00        85\n",
      "           1       0.90      0.95      0.93       126\n",
      "           2       0.45      0.88      0.59       116\n",
      "           3       0.00      0.00      0.00       107\n",
      "           4       0.00      0.00      0.00       110\n",
      "           5       0.26      0.90      0.41        87\n",
      "           6       0.83      0.75      0.79        87\n",
      "           7       0.54      0.87      0.67        99\n",
      "           8       0.00      0.00      0.00        89\n",
      "           9       0.50      0.56      0.53        94\n",
      "\n",
      "    accuracy                           0.50      1000\n",
      "   macro avg       0.35      0.49      0.39      1000\n",
      "weighted avg       0.36      0.50      0.41      1000\n",
      "\n"
     ]
    }
   ],
   "source": [
    "from sklearn import metrics\n",
    "print(metrics.confusion_matrix(expected, predicted))\n",
    "print(metrics.classification_report(expected, predicted))"
   ]
  },
  {
   "cell_type": "markdown",
   "metadata": {},
   "source": [
    "### Seaborn で可視化すると見やすい"
   ]
  },
  {
   "cell_type": "code",
   "execution_count": 58,
   "metadata": {},
   "outputs": [
    {
     "data": {
      "text/plain": [
       "Text(0.5, 200.75999999999993, 'Predicted label')"
      ]
     },
     "execution_count": 58,
     "metadata": {},
     "output_type": "execute_result"
    },
    {
     "data": {
      "image/png": "[encoded data removed]",
      "text/plain": [
       "<Figure size 1152x1152 with 2 Axes>"
      ]
     },
     "metadata": {
      "needs_background": "light"
     },
     "output_type": "display_data"
    }
   ],
   "source": [
    "import seaborn as sns\n",
    "confmat = metrics.confusion_matrix(expected, predicted)\n",
    "plt.figure(figsize=(16,16))\n",
    "sns.heatmap(confmat, annot=True, fmt=\".3f\", square = True, cmap = 'Blues_r')\n",
    "plt.ylabel('Expected Class')\n",
    "plt.xlabel('Predicted label')"
   ]
  },
  {
   "cell_type": "markdown",
   "metadata": {},
   "source": [
    "### 層を増やしてみる\n",
    "#### 多層パーセプトロン (Multi Layer Perceptron, MLP) を行う\n",
    "- model = Sequential() の後に，model.addを増やしていく．\n",
    "- 下記は，2層にする例．\n",
    "- 入力の次の層は，ニューロン数 1000 としている\n",
    "- 活性化関数に relu (rectified linear) というのを用いる"
   ]
  },
  {
   "cell_type": "code",
   "execution_count": 59,
   "metadata": {},
   "outputs": [],
   "source": [
    "mlp = Sequential()\n",
    "mlp.add(Dense(1000, activation='relu', input_shape=(784,)))\n",
    "mlp.add(Dense(n_classes, activation='softmax'))"
   ]
  },
  {
   "cell_type": "code",
   "execution_count": 60,
   "metadata": {
    "scrolled": true
   },
   "outputs": [
    {
     "name": "stdout",
     "output_type": "stream",
     "text": [
      "_________________________________________________________________\n",
      "Layer (type)                 Output Shape              Param #   \n",
      "=================================================================\n",
      "dense_3 (Dense)              (None, 1000)              785000    \n",
      "_________________________________________________________________\n",
      "dense_4 (Dense)              (None, 10)                10010     \n",
      "=================================================================\n",
      "Total params: 795,010\n",
      "Trainable params: 795,010\n",
      "Non-trainable params: 0\n",
      "_________________________________________________________________\n"
     ]
    }
   ],
   "source": [
    "mlp.summary()"
   ]
  },
  {
   "cell_type": "code",
   "execution_count": 61,
   "metadata": {},
   "outputs": [],
   "source": [
    "mlp.compile(loss='categorical_crossentropy',\n",
    "            optimizer='adam',\n",
    "            metrics=['accuracy'])"
   ]
  },
  {
   "cell_type": "markdown",
   "metadata": {},
   "source": [
    "モデルを実行してください．history も残してください．"
   ]
  },
  {
   "cell_type": "code",
   "execution_count": 62,
   "metadata": {
    "scrolled": true
   },
   "outputs": [
    {
     "name": "stdout",
     "output_type": "stream",
     "text": [
      "Train on 1000 samples, validate on 1000 samples\n",
      "Epoch 1/8\n",
      "1000/1000 [==============================] - 2s 2ms/step - loss: 14.2324 - acc: 0.1170 - val_loss: 14.5224 - val_acc: 0.0990\n",
      "Epoch 2/8\n",
      "1000/1000 [==============================] - 1s 860us/step - loss: 14.2323 - acc: 0.1170 - val_loss: 14.5224 - val_acc: 0.0990\n",
      "Epoch 3/8\n",
      "1000/1000 [==============================] - 1s 853us/step - loss: 14.2323 - acc: 0.1170 - val_loss: 14.5224 - val_acc: 0.0990\n",
      "Epoch 4/8\n",
      "1000/1000 [==============================] - 1s 641us/step - loss: 14.2323 - acc: 0.1170 - val_loss: 14.5224 - val_acc: 0.0990\n",
      "Epoch 5/8\n",
      "1000/1000 [==============================] - 1s 677us/step - loss: 14.2323 - acc: 0.1170 - val_loss: 14.5224 - val_acc: 0.0990\n",
      "Epoch 6/8\n",
      "1000/1000 [==============================] - 1s 601us/step - loss: 14.2323 - acc: 0.1170 - val_loss: 14.5224 - val_acc: 0.0990\n",
      "Epoch 7/8\n",
      "1000/1000 [==============================] - 1s 679us/step - loss: 14.2323 - acc: 0.1170 - val_loss: 14.5224 - val_acc: 0.0990\n",
      "Epoch 8/8\n",
      "1000/1000 [==============================] - 1s 587us/step - loss: 14.2323 - acc: 0.1170 - val_loss: 14.5224 - val_acc: 0.0990\n"
     ]
    }
   ],
   "source": [
    "history_mlp = mlp.fit(x_train1, y_train_c,\n",
    "                      batch_size=32,\n",
    "                      epochs=8,\n",
    "                      verbose=1,\n",
    "                      validation_data=(x_test1, y_test_c))"
   ]
  },
  {
   "cell_type": "markdown",
   "metadata": {},
   "source": [
    "認識精度を確認してください"
   ]
  },
  {
   "cell_type": "code",
   "execution_count": 63,
   "metadata": {},
   "outputs": [
    {
     "name": "stdout",
     "output_type": "stream",
     "text": [
      "1000/1000 [==============================] - 0s 259us/step\n",
      "Test loss: 14.522403778076171\n",
      "Test accuracy: 0.099\n"
     ]
    }
   ],
   "source": [
    "score_mlp = mlp.evaluate(x_test1, y_test_c, verbose=1)\n",
    "print('Test loss:', score_mlp[0])\n",
    "print('Test accuracy:', score_mlp[1])"
   ]
  },
  {
   "cell_type": "markdown",
   "metadata": {},
   "source": [
    "# 精度が悪い理由は，データのノーマライズをしていないから\n",
    "- Scikit Learn では実はノーマライズ（データの標準化）が入っていた\n",
    "- Kerasにはないので，ここでは単純に正規化（0-255 の画素値を 0-1にする）してみる\n",
    "- x_train1, x_test1を255で除する"
   ]
  },
  {
   "cell_type": "code",
   "execution_count": 64,
   "metadata": {},
   "outputs": [],
   "source": [
    "x_train1_n = x_train1 / 255\n",
    "x_test1_n = x_test1 / 255"
   ]
  },
  {
   "cell_type": "markdown",
   "metadata": {},
   "source": [
    "データを確認する"
   ]
  },
  {
   "cell_type": "code",
   "execution_count": 65,
   "metadata": {},
   "outputs": [
    {
     "data": {
      "text/plain": [
       "array([0.        , 0.        , 0.        , 0.        , 0.        ,\n",
       "       0.        , 0.        , 0.        , 0.        , 0.        ,\n",
       "       0.        , 0.        , 0.        , 0.        , 0.        ,\n",
       "       0.        , 0.        , 0.        , 0.        , 0.        ,\n",
       "       0.        , 0.        , 0.        , 0.        , 0.        ,\n",
       "       0.        , 0.        , 0.        , 0.        , 0.        ,\n",
       "       0.        , 0.        , 0.        , 0.        , 0.        ,\n",
       "       0.        , 0.        , 0.        , 0.        , 0.        ,\n",
       "       0.        , 0.        , 0.        , 0.        , 0.        ,\n",
       "       0.        , 0.        , 0.        , 0.        , 0.        ,\n",
       "       0.        , 0.        , 0.        , 0.        , 0.        ,\n",
       "       0.        , 0.        , 0.        , 0.        , 0.        ,\n",
       "       0.        , 0.        , 0.        , 0.        , 0.        ,\n",
       "       0.        , 0.        , 0.        , 0.        , 0.        ,\n",
       "       0.        , 0.        , 0.        , 0.        , 0.        ,\n",
       "       0.        , 0.        , 0.        , 0.        , 0.        ,\n",
       "       0.        , 0.        , 0.        , 0.        , 0.        ,\n",
       "       0.        , 0.        , 0.        , 0.        , 0.        ,\n",
       "       0.        , 0.        , 0.        , 0.        , 0.        ,\n",
       "       0.        , 0.        , 0.        , 0.        , 0.        ,\n",
       "       0.        , 0.        , 0.        , 0.        , 0.        ,\n",
       "       0.        , 0.        , 0.        , 0.        , 0.        ,\n",
       "       0.        , 0.        , 0.        , 0.        , 0.        ,\n",
       "       0.        , 0.        , 0.        , 0.        , 0.        ,\n",
       "       0.        , 0.        , 0.        , 0.        , 0.        ,\n",
       "       0.        , 0.        , 0.        , 0.        , 0.        ,\n",
       "       0.        , 0.        , 0.        , 0.        , 0.        ,\n",
       "       0.        , 0.        , 0.        , 0.        , 0.        ,\n",
       "       0.        , 0.        , 0.        , 0.        , 0.        ,\n",
       "       0.        , 0.        , 0.        , 0.        , 0.        ,\n",
       "       0.        , 0.        , 0.01176471, 0.07058824, 0.07058824,\n",
       "       0.07058824, 0.49411765, 0.53333336, 0.6862745 , 0.10196079,\n",
       "       0.6509804 , 1.        , 0.96862745, 0.49803922, 0.        ,\n",
       "       0.        , 0.        , 0.        , 0.        , 0.        ,\n",
       "       0.        , 0.        , 0.        , 0.        , 0.        ,\n",
       "       0.        , 0.11764706, 0.14117648, 0.36862746, 0.6039216 ,\n",
       "       0.6666667 , 0.99215686, 0.99215686, 0.99215686, 0.99215686,\n",
       "       0.99215686, 0.88235295, 0.6745098 , 0.99215686, 0.9490196 ,\n",
       "       0.7647059 , 0.2509804 , 0.        , 0.        , 0.        ,\n",
       "       0.        , 0.        , 0.        , 0.        , 0.        ,\n",
       "       0.        , 0.        , 0.        , 0.19215687, 0.93333334,\n",
       "       0.99215686, 0.99215686, 0.99215686, 0.99215686, 0.99215686,\n",
       "       0.99215686, 0.99215686, 0.99215686, 0.9843137 , 0.3647059 ,\n",
       "       0.32156864, 0.32156864, 0.21960784, 0.15294118, 0.        ,\n",
       "       0.        , 0.        , 0.        , 0.        , 0.        ,\n",
       "       0.        , 0.        , 0.        , 0.        , 0.        ,\n",
       "       0.        , 0.07058824, 0.85882354, 0.99215686, 0.99215686,\n",
       "       0.99215686, 0.99215686, 0.99215686, 0.7764706 , 0.7137255 ,\n",
       "       0.96862745, 0.94509804, 0.        , 0.        , 0.        ,\n",
       "       0.        , 0.        , 0.        , 0.        , 0.        ,\n",
       "       0.        , 0.        , 0.        , 0.        , 0.        ,\n",
       "       0.        , 0.        , 0.        , 0.        , 0.        ,\n",
       "       0.3137255 , 0.6117647 , 0.41960785, 0.99215686, 0.99215686,\n",
       "       0.8039216 , 0.04313726, 0.        , 0.16862746, 0.6039216 ,\n",
       "       0.        , 0.        , 0.        , 0.        , 0.        ,\n",
       "       0.        , 0.        , 0.        , 0.        , 0.        ,\n",
       "       0.        , 0.        , 0.        , 0.        , 0.        ,\n",
       "       0.        , 0.        , 0.        , 0.        , 0.05490196,\n",
       "       0.00392157, 0.6039216 , 0.99215686, 0.3529412 , 0.        ,\n",
       "       0.        , 0.        , 0.        , 0.        , 0.        ,\n",
       "       0.        , 0.        , 0.        , 0.        , 0.        ,\n",
       "       0.        , 0.        , 0.        , 0.        , 0.        ,\n",
       "       0.        , 0.        , 0.        , 0.        , 0.        ,\n",
       "       0.        , 0.        , 0.        , 0.        , 0.54509807,\n",
       "       0.99215686, 0.74509805, 0.00784314, 0.        , 0.        ,\n",
       "       0.        , 0.        , 0.        , 0.        , 0.        ,\n",
       "       0.        , 0.        , 0.        , 0.        , 0.        ,\n",
       "       0.        , 0.        , 0.        , 0.        , 0.        ,\n",
       "       0.        , 0.        , 0.        , 0.        , 0.        ,\n",
       "       0.        , 0.        , 0.04313726, 0.74509805, 0.99215686,\n",
       "       0.27450982, 0.        , 0.        , 0.        , 0.        ,\n",
       "       0.        , 0.        , 0.        , 0.        , 0.        ,\n",
       "       0.        , 0.        , 0.        , 0.        , 0.        ,\n",
       "       0.        , 0.        , 0.        , 0.        , 0.        ,\n",
       "       0.        , 0.        , 0.        , 0.        , 0.        ,\n",
       "       0.        , 0.13725491, 0.94509804, 0.88235295, 0.627451  ,\n",
       "       0.42352942, 0.00392157, 0.        , 0.        , 0.        ,\n",
       "       0.        , 0.        , 0.        , 0.        , 0.        ,\n",
       "       0.        , 0.        , 0.        , 0.        , 0.        ,\n",
       "       0.        , 0.        , 0.        , 0.        , 0.        ,\n",
       "       0.        , 0.        , 0.        , 0.        , 0.        ,\n",
       "       0.31764707, 0.9411765 , 0.99215686, 0.99215686, 0.46666667,\n",
       "       0.09803922, 0.        , 0.        , 0.        , 0.        ,\n",
       "       0.        , 0.        , 0.        , 0.        , 0.        ,\n",
       "       0.        , 0.        , 0.        , 0.        , 0.        ,\n",
       "       0.        , 0.        , 0.        , 0.        , 0.        ,\n",
       "       0.        , 0.        , 0.        , 0.        , 0.1764706 ,\n",
       "       0.7294118 , 0.99215686, 0.99215686, 0.5882353 , 0.10588235,\n",
       "       0.        , 0.        , 0.        , 0.        , 0.        ,\n",
       "       0.        , 0.        , 0.        , 0.        , 0.        ,\n",
       "       0.        , 0.        , 0.        , 0.        , 0.        ,\n",
       "       0.        , 0.        , 0.        , 0.        , 0.        ,\n",
       "       0.        , 0.        , 0.        , 0.0627451 , 0.3647059 ,\n",
       "       0.9882353 , 0.99215686, 0.73333335, 0.        , 0.        ,\n",
       "       0.        , 0.        , 0.        , 0.        , 0.        ,\n",
       "       0.        , 0.        , 0.        , 0.        , 0.        ,\n",
       "       0.        , 0.        , 0.        , 0.        , 0.        ,\n",
       "       0.        , 0.        , 0.        , 0.        , 0.        ,\n",
       "       0.        , 0.        , 0.        , 0.9764706 , 0.99215686,\n",
       "       0.9764706 , 0.2509804 , 0.        , 0.        , 0.        ,\n",
       "       0.        , 0.        , 0.        , 0.        , 0.        ,\n",
       "       0.        , 0.        , 0.        , 0.        , 0.        ,\n",
       "       0.        , 0.        , 0.        , 0.        , 0.        ,\n",
       "       0.        , 0.        , 0.        , 0.18039216, 0.50980395,\n",
       "       0.7176471 , 0.99215686, 0.99215686, 0.8117647 , 0.00784314,\n",
       "       0.        , 0.        , 0.        , 0.        , 0.        ,\n",
       "       0.        , 0.        , 0.        , 0.        , 0.        ,\n",
       "       0.        , 0.        , 0.        , 0.        , 0.        ,\n",
       "       0.        , 0.        , 0.        , 0.        , 0.15294118,\n",
       "       0.5803922 , 0.8980392 , 0.99215686, 0.99215686, 0.99215686,\n",
       "       0.98039216, 0.7137255 , 0.        , 0.        , 0.        ,\n",
       "       0.        , 0.        , 0.        , 0.        , 0.        ,\n",
       "       0.        , 0.        , 0.        , 0.        , 0.        ,\n",
       "       0.        , 0.        , 0.        , 0.        , 0.        ,\n",
       "       0.09411765, 0.44705883, 0.8666667 , 0.99215686, 0.99215686,\n",
       "       0.99215686, 0.99215686, 0.7882353 , 0.30588236, 0.        ,\n",
       "       0.        , 0.        , 0.        , 0.        , 0.        ,\n",
       "       0.        , 0.        , 0.        , 0.        , 0.        ,\n",
       "       0.        , 0.        , 0.        , 0.        , 0.        ,\n",
       "       0.        , 0.09019608, 0.25882354, 0.8352941 , 0.99215686,\n",
       "       0.99215686, 0.99215686, 0.99215686, 0.7764706 , 0.31764707,\n",
       "       0.00784314, 0.        , 0.        , 0.        , 0.        ,\n",
       "       0.        , 0.        , 0.        , 0.        , 0.        ,\n",
       "       0.        , 0.        , 0.        , 0.        , 0.        ,\n",
       "       0.        , 0.        , 0.07058824, 0.67058825, 0.85882354,\n",
       "       0.99215686, 0.99215686, 0.99215686, 0.99215686, 0.7647059 ,\n",
       "       0.3137255 , 0.03529412, 0.        , 0.        , 0.        ,\n",
       "       0.        , 0.        , 0.        , 0.        , 0.        ,\n",
       "       0.        , 0.        , 0.        , 0.        , 0.        ,\n",
       "       0.        , 0.        , 0.        , 0.21568628, 0.6745098 ,\n",
       "       0.8862745 , 0.99215686, 0.99215686, 0.99215686, 0.99215686,\n",
       "       0.95686275, 0.52156866, 0.04313726, 0.        , 0.        ,\n",
       "       0.        , 0.        , 0.        , 0.        , 0.        ,\n",
       "       0.        , 0.        , 0.        , 0.        , 0.        ,\n",
       "       0.        , 0.        , 0.        , 0.        , 0.        ,\n",
       "       0.        , 0.53333336, 0.99215686, 0.99215686, 0.99215686,\n",
       "       0.83137256, 0.5294118 , 0.5176471 , 0.0627451 , 0.        ,\n",
       "       0.        , 0.        , 0.        , 0.        , 0.        ,\n",
       "       0.        , 0.        , 0.        , 0.        , 0.        ,\n",
       "       0.        , 0.        , 0.        , 0.        , 0.        ,\n",
       "       0.        , 0.        , 0.        , 0.        , 0.        ,\n",
       "       0.        , 0.        , 0.        , 0.        , 0.        ,\n",
       "       0.        , 0.        , 0.        , 0.        , 0.        ,\n",
       "       0.        , 0.        , 0.        , 0.        , 0.        ,\n",
       "       0.        , 0.        , 0.        , 0.        , 0.        ,\n",
       "       0.        , 0.        , 0.        , 0.        , 0.        ,\n",
       "       0.        , 0.        , 0.        , 0.        , 0.        ,\n",
       "       0.        , 0.        , 0.        , 0.        , 0.        ,\n",
       "       0.        , 0.        , 0.        , 0.        , 0.        ,\n",
       "       0.        , 0.        , 0.        , 0.        , 0.        ,\n",
       "       0.        , 0.        , 0.        , 0.        , 0.        ,\n",
       "       0.        , 0.        , 0.        , 0.        , 0.        ,\n",
       "       0.        , 0.        , 0.        , 0.        , 0.        ,\n",
       "       0.        , 0.        , 0.        , 0.        , 0.        ,\n",
       "       0.        , 0.        , 0.        , 0.        , 0.        ,\n",
       "       0.        , 0.        , 0.        , 0.        , 0.        ,\n",
       "       0.        , 0.        , 0.        , 0.        ], dtype=float32)"
      ]
     },
     "execution_count": 65,
     "metadata": {},
     "output_type": "execute_result"
    }
   ],
   "source": [
    "x_train1_n[0]"
   ]
  },
  {
   "cell_type": "markdown",
   "metadata": {},
   "source": [
    "ノーマライズされたデータに対して，もう一度学習を実行してください．前回同様，history も残してください．"
   ]
  },
  {
   "cell_type": "code",
   "execution_count": 66,
   "metadata": {},
   "outputs": [
    {
     "name": "stdout",
     "output_type": "stream",
     "text": [
      "Train on 1000 samples, validate on 1000 samples\n",
      "Epoch 1/8\n",
      "1000/1000 [==============================] - 1s 1ms/step - loss: 0.9611 - acc: 0.7010 - val_loss: 0.5152 - val_acc: 0.8350\n",
      "Epoch 2/8\n",
      "1000/1000 [==============================] - 1s 763us/step - loss: 0.2284 - acc: 0.9380 - val_loss: 0.5202 - val_acc: 0.8220\n",
      "Epoch 3/8\n",
      "1000/1000 [==============================] - 1s 943us/step - loss: 0.1186 - acc: 0.9660 - val_loss: 0.4079 - val_acc: 0.8730\n",
      "Epoch 4/8\n",
      "1000/1000 [==============================] - 1s 1ms/step - loss: 0.0576 - acc: 0.9890 - val_loss: 0.4186 - val_acc: 0.8660\n",
      "Epoch 5/8\n",
      "1000/1000 [==============================] - 1s 961us/step - loss: 0.0322 - acc: 1.0000 - val_loss: 0.4028 - val_acc: 0.8750\n",
      "Epoch 6/8\n",
      "1000/1000 [==============================] - 1s 779us/step - loss: 0.0215 - acc: 1.0000 - val_loss: 0.3957 - val_acc: 0.8710\n",
      "Epoch 7/8\n",
      "1000/1000 [==============================] - 1s 840us/step - loss: 0.0156 - acc: 1.0000 - val_loss: 0.3981 - val_acc: 0.8700\n",
      "Epoch 8/8\n",
      "1000/1000 [==============================] - 1s 1ms/step - loss: 0.0105 - acc: 1.0000 - val_loss: 0.4022 - val_acc: 0.8810\n"
     ]
    }
   ],
   "source": [
    "history_mlp = mlp.fit(x_train1_n, y_train_c,\n",
    "                      batch_size=32,\n",
    "                      epochs=8,\n",
    "                      verbose=1,\n",
    "                      validation_data=(x_test1_n, y_test_c))"
   ]
  },
  {
   "cell_type": "code",
   "execution_count": 67,
   "metadata": {},
   "outputs": [],
   "source": [
    "mlp.save('mlp.h5')"
   ]
  },
  {
   "cell_type": "markdown",
   "metadata": {},
   "source": [
    "## 上記でセーブしたモデルを予測器として実際に手書き認識させてみる"
   ]
  },
  {
   "cell_type": "markdown",
   "metadata": {},
   "source": [
    "## モデルの評価\n",
    "- 正答率 accuracy, 誤差 loss\n",
    "- 適合率（認識結果のうちどれくらい正しいものか），再現率（書かれた文字全体のうち正しく認識できたものはどのくらいか）\n",
    "- 混同行列 (confusion matrix)"
   ]
  },
  {
   "cell_type": "markdown",
   "metadata": {},
   "source": [
    "### 評価のためのテストデータを作成"
   ]
  },
  {
   "cell_type": "code",
   "execution_count": 68,
   "metadata": {},
   "outputs": [],
   "source": [
    "predicted = mlp.predict_classes(x_test1_n)\n",
    "expected = y_test[0:data_size]"
   ]
  },
  {
   "cell_type": "markdown",
   "metadata": {},
   "source": [
    "### Scikit Learn の metrics クラスを使う\n"
   ]
  },
  {
   "cell_type": "code",
   "execution_count": 70,
   "metadata": {
    "scrolled": true
   },
   "outputs": [
    {
     "name": "stdout",
     "output_type": "stream",
     "text": [
      "[[ 84   0   0   0   0   0   1   0   0   0]\n",
      " [  0 124   1   1   0   0   0   0   0   0]\n",
      " [  1   0 102   3   0   0   1   4   5   0]\n",
      " [  0   0   1  80   0  17   1   2   5   1]\n",
      " [  0   0   0   1  96   1   4   0   1   7]\n",
      " [  1   0   0   1   3  73   1   5   1   2]\n",
      " [  2   0   2   0   0   3  79   1   0   0]\n",
      " [  0   0   2   3   2   1   0  88   0   3]\n",
      " [  2   0   0   3   2   5   2   2  70   3]\n",
      " [  0   0   0   1   0   2   0   5   1  85]]\n",
      "              precision    recall  f1-score   support\n",
      "\n",
      "           0       0.93      0.99      0.96        85\n",
      "           1       1.00      0.98      0.99       126\n",
      "           2       0.94      0.88      0.91       116\n",
      "           3       0.86      0.75      0.80       107\n",
      "           4       0.93      0.87      0.90       110\n",
      "           5       0.72      0.84      0.77        87\n",
      "           6       0.89      0.91      0.90        87\n",
      "           7       0.82      0.89      0.85        99\n",
      "           8       0.84      0.79      0.81        89\n",
      "           9       0.84      0.90      0.87        94\n",
      "\n",
      "    accuracy                           0.88      1000\n",
      "   macro avg       0.88      0.88      0.88      1000\n",
      "weighted avg       0.88      0.88      0.88      1000\n",
      "\n"
     ]
    }
   ],
   "source": [
    "from sklearn import metrics\n",
    "print(metrics.confusion_matrix(expected, predicted))\n",
    "print(metrics.classification_report(expected, predicted))"
   ]
  },
  {
   "cell_type": "markdown",
   "metadata": {},
   "source": [
    "### Seaborn で可視化すると見やすい"
   ]
  },
  {
   "cell_type": "code",
   "execution_count": 71,
   "metadata": {},
   "outputs": [
    {
     "data": {
      "text/plain": [
       "Text(0.5, 200.75999999999993, 'Predicted label')"
      ]
     },
     "execution_count": 71,
     "metadata": {},
     "output_type": "execute_result"
    },
    {
     "data": {
      "image/png": "[encoded data removed]",
      "text/plain": [
       "<Figure size 1152x1152 with 2 Axes>"
      ]
     },
     "metadata": {
      "needs_background": "light"
     },
     "output_type": "display_data"
    }
   ],
   "source": [
    "import seaborn as sns\n",
    "confmat = metrics.confusion_matrix(expected, predicted)\n",
    "plt.figure(figsize=(16,16))\n",
    "sns.heatmap(confmat, annot=True, fmt=\".3f\", square = True, cmap = 'Blues_r')\n",
    "plt.ylabel('Expected Class')\n",
    "plt.xlabel('Predicted label')"
   ]
  },
  {
   "cell_type": "markdown",
   "metadata": {},
   "source": [
    "### 誤認識された文字を見る\n",
    "このコードで，mis_idx というリストに間違った文字の番号(index)が格納される"
   ]
  },
  {
   "cell_type": "code",
   "execution_count": 72,
   "metadata": {},
   "outputs": [
    {
     "name": "stdout",
     "output_type": "stream",
     "text": [
      "8 5 4\n",
      "33 4 6\n",
      "44 3 5\n",
      "63 3 2\n",
      "65 4 9\n",
      "66 6 2\n",
      "73 9 7\n",
      "80 7 9\n",
      "87 3 5\n",
      "124 7 4\n",
      "149 2 8\n",
      "172 2 3\n",
      "193 9 3\n",
      "211 5 7\n",
      "217 6 5\n",
      "218 5 7\n",
      "230 3 5\n",
      "233 8 7\n",
      "241 9 5\n",
      "242 8 9\n",
      "243 7 3\n",
      "245 3 5\n",
      "247 4 6\n",
      "268 8 5\n",
      "290 8 4\n",
      "300 4 6\n",
      "313 3 5\n",
      "318 2 3\n",
      "320 9 7\n",
      "321 2 7\n",
      "338 8 0\n",
      "341 6 7\n",
      "349 3 7\n",
      "352 5 0\n",
      "358 7 9\n",
      "362 2 7\n",
      "376 4 9\n",
      "386 6 5\n",
      "403 8 9\n",
      "412 5 3\n",
      "444 2 8\n",
      "445 6 0\n",
      "448 9 8\n",
      "449 3 5\n",
      "450 3 5\n",
      "457 6 5\n",
      "460 5 9\n",
      "464 3 7\n",
      "479 9 5\n",
      "483 5 7\n",
      "488 9 7\n",
      "495 8 0\n",
      "507 3 5\n",
      "511 4 8\n",
      "514 6 2\n",
      "515 3 8\n",
      "527 8 5\n",
      "531 3 6\n",
      "532 4 9\n",
      "543 8 3\n",
      "548 3 5\n",
      "551 7 3\n",
      "553 8 6\n",
      "565 4 9\n",
      "569 3 5\n",
      "572 8 5\n",
      "578 3 8\n",
      "591 8 3\n",
      "610 4 6\n",
      "613 2 8\n",
      "628 3 9\n",
      "638 5 7\n",
      "646 2 6\n",
      "658 7 4\n",
      "659 2 7\n",
      "684 7 3\n",
      "689 7 9\n",
      "691 8 4\n",
      "692 5 7\n",
      "707 4 9\n",
      "717 0 6\n",
      "720 5 6\n",
      "726 7 5\n",
      "728 2 8\n",
      "734 3 5\n",
      "738 2 8\n",
      "740 4 9\n",
      "760 4 9\n",
      "791 5 9\n",
      "795 3 5\n",
      "797 5 8\n",
      "800 8 5\n",
      "801 3 5\n",
      "810 7 2\n",
      "839 8 3\n",
      "844 8 7\n",
      "865 3 5\n",
      "866 5 4\n",
      "877 8 6\n",
      "881 4 3\n",
      "882 9 7\n",
      "890 3 5\n",
      "894 3 5\n",
      "900 1 3\n",
      "924 2 7\n",
      "936 8 5\n",
      "938 3 5\n",
      "939 2 0\n",
      "944 3 8\n",
      "947 8 9\n",
      "950 7 2\n",
      "951 5 4\n",
      "956 1 2\n",
      "959 4 5\n",
      "965 6 0\n",
      "975 2 3\n",
      "976 3 8\n",
      "982 3 8\n",
      "999 9 7\n"
     ]
    }
   ],
   "source": [
    "i = 0\n",
    "mis_idx = []\n",
    "for exp, pred in zip(expected, predicted):\n",
    "    if exp != pred:\n",
    "        print(i, exp, pred)\n",
    "        mis_idx.append(i)\n",
    "    i = i + 1"
   ]
  },
  {
   "cell_type": "markdown",
   "metadata": {},
   "source": [
    "mis_idx の長さを見て(len()関数），何文字間違えたか見る"
   ]
  },
  {
   "cell_type": "markdown",
   "metadata": {},
   "source": [
    "## 実際に誤認識した文字の画像を見る"
   ]
  },
  {
   "cell_type": "code",
   "execution_count": 73,
   "metadata": {
    "scrolled": false
   },
   "outputs": [
    {
     "data": {
      "image/png": "[encoded data removed]",
      "text/plain": [
       "<Figure size 1152x1152 with 50 Axes>"
      ]
     },
     "metadata": {
      "needs_background": "light"
     },
     "output_type": "display_data"
    }
   ],
   "source": [
    "plt.figure(figsize=(16,16))\n",
    "for i, ng in enumerate(mis_idx[0:50]):\n",
    "    plt.subplot(5, 10, i + 1)\n",
    "    plt.imshow(x_test[ng], cmap='gray_r')\n",
    "    plt.title('Pred: {}, Ans: {}'.format(predicted[ng], expected[ng]), fontsize = 8)"
   ]
  },
  {
   "cell_type": "markdown",
   "metadata": {},
   "source": [
    "## CNN (畳み込みニューラルネット) でディープラーニング"
   ]
  },
  {
   "cell_type": "code",
   "execution_count": 74,
   "metadata": {},
   "outputs": [],
   "source": [
    "from keras.layers import Flatten\n",
    "from keras.layers.convolutional import Conv2D\n",
    "from keras.layers.convolutional import MaxPooling2D\n",
    "from keras.utils import np_utils\n",
    "from keras import backend as K\n",
    "K.set_image_dim_ordering('th')"
   ]
  },
  {
   "cell_type": "markdown",
   "metadata": {},
   "source": [
    "### データを少し加工する\n",
    "CNN は2次元配列でデータを入力 (28x28のままで入力)"
   ]
  },
  {
   "cell_type": "code",
   "execution_count": 77,
   "metadata": {},
   "outputs": [],
   "source": [
    "data_size = 1000\n",
    "\n",
    "x_train1 = x_train.reshape(x_train.shape[0], 1, 28, 28).astype('float32')\n",
    "x_test1 = x_test.reshape(x_test.shape[0], 1, 28, 28).astype('float32')\n",
    "x_train1 = x_train1[0:data_size]\n",
    "y_train1 = y_train[0:data_size]\n",
    "x_test1 = x_test1[0:data_size]\n",
    "y_test1 = y_test[0:data_size]\n",
    "x_train1_n = x_train1 / 255\n",
    "x_test1_n = x_test1 / 255"
   ]
  },
  {
   "cell_type": "markdown",
   "metadata": {},
   "source": [
    "### モデルを定義\n",
    "- Conv2D, MaxPooling という層が，独自の層（ディープラーニング用）"
   ]
  },
  {
   "cell_type": "code",
   "execution_count": 80,
   "metadata": {
    "scrolled": true
   },
   "outputs": [
    {
     "name": "stdout",
     "output_type": "stream",
     "text": [
      "_________________________________________________________________\n",
      "Layer (type)                 Output Shape              Param #   \n",
      "=================================================================\n",
      "conv2d_2 (Conv2D)            (None, 32, 24, 24)        832       \n",
      "_________________________________________________________________\n",
      "max_pooling2d_2 (MaxPooling2 (None, 32, 12, 12)        0         \n",
      "_________________________________________________________________\n",
      "dropout_2 (Dropout)          (None, 32, 12, 12)        0         \n",
      "_________________________________________________________________\n",
      "flatten_2 (Flatten)          (None, 4608)              0         \n",
      "_________________________________________________________________\n",
      "dense_7 (Dense)              (None, 128)               589952    \n",
      "_________________________________________________________________\n",
      "dense_8 (Dense)              (None, 10)                1290      \n",
      "=================================================================\n",
      "Total params: 592,074\n",
      "Trainable params: 592,074\n",
      "Non-trainable params: 0\n",
      "_________________________________________________________________\n"
     ]
    }
   ],
   "source": [
    "dnn = Sequential()\n",
    "dnn.add(Conv2D(32, (5, 5), input_shape=(1, 28, 28), activation='relu'))\n",
    "dnn.add(MaxPooling2D(pool_size=(2, 2)))\n",
    "dnn.add(Dropout(0.2))\n",
    "dnn.add(Flatten())\n",
    "dnn.add(Dense(128, activation='relu'))\n",
    "dnn.add(Dense(n_classes, activation='softmax'))\n",
    "\n",
    "dnn.summary()\n",
    "dnn.compile(loss='categorical_crossentropy', optimizer='adam', metrics=['accuracy'])"
   ]
  },
  {
   "cell_type": "markdown",
   "metadata": {},
   "source": [
    "### モデルの学習\n",
    "- epochsは本当は大きい方が望ましいが，ここは8にしておく(計算時間のため)"
   ]
  },
  {
   "cell_type": "code",
   "execution_count": 81,
   "metadata": {
    "scrolled": true
   },
   "outputs": [
    {
     "name": "stdout",
     "output_type": "stream",
     "text": [
      "Train on 1000 samples, validate on 1000 samples\n",
      "Epoch 1/8\n",
      "1000/1000 [==============================] - 2s 2ms/step - loss: 1.1998 - acc: 0.6550 - val_loss: 0.8511 - val_acc: 0.7380\n",
      "Epoch 2/8\n",
      "1000/1000 [==============================] - 2s 2ms/step - loss: 0.4160 - acc: 0.8720 - val_loss: 0.4335 - val_acc: 0.8630\n",
      "Epoch 3/8\n",
      "1000/1000 [==============================] - 1s 1ms/step - loss: 0.2452 - acc: 0.9340 - val_loss: 0.3439 - val_acc: 0.8950\n",
      "Epoch 4/8\n",
      "1000/1000 [==============================] - 1s 1ms/step - loss: 0.1949 - acc: 0.9420 - val_loss: 0.3745 - val_acc: 0.8690\n",
      "Epoch 5/8\n",
      "1000/1000 [==============================] - 2s 2ms/step - loss: 0.1487 - acc: 0.9570 - val_loss: 0.3237 - val_acc: 0.8960\n",
      "Epoch 6/8\n",
      "1000/1000 [==============================] - 1s 1ms/step - loss: 0.0913 - acc: 0.9800 - val_loss: 0.3146 - val_acc: 0.8980\n",
      "Epoch 7/8\n",
      "1000/1000 [==============================] - 2s 2ms/step - loss: 0.0561 - acc: 0.9910 - val_loss: 0.3453 - val_acc: 0.8960\n",
      "Epoch 8/8\n",
      "1000/1000 [==============================] - 1s 1ms/step - loss: 0.0449 - acc: 0.9900 - val_loss: 0.3306 - val_acc: 0.8990\n"
     ]
    }
   ],
   "source": [
    "history_dnn = dnn.fit(x_train1_n, y_train_c,\n",
    "                    batch_size=32,\n",
    "                    epochs=8,\n",
    "                    verbose=1,\n",
    "                    validation_data=(x_test1_n, y_test_c))"
   ]
  },
  {
   "cell_type": "markdown",
   "metadata": {},
   "source": [
    "#### 精度を評価"
   ]
  },
  {
   "cell_type": "code",
   "execution_count": 82,
   "metadata": {
    "scrolled": true
   },
   "outputs": [
    {
     "name": "stdout",
     "output_type": "stream",
     "text": [
      "1000/1000 [==============================] - 0s 221us/step\n",
      "Test loss: 0.3305629140138626\n",
      "Test accuracy: 0.899\n"
     ]
    }
   ],
   "source": [
    "score_dnn = dnn.evaluate(x_test1_n, y_test_c, verbose=1)\n",
    "print('Test loss:', score_dnn[0])\n",
    "print('Test accuracy:', score_dnn[1])"
   ]
  },
  {
   "cell_type": "markdown",
   "metadata": {},
   "source": [
    "- history オブジェクトにある情報で，学習の進展を見る"
   ]
  },
  {
   "cell_type": "code",
   "execution_count": 83,
   "metadata": {},
   "outputs": [
    {
     "data": {
      "image/png": "[encoded data removed]",
      "text/plain": [
       "<Figure size 432x288 with 1 Axes>"
      ]
     },
     "metadata": {
      "needs_background": "light"
     },
     "output_type": "display_data"
    }
   ],
   "source": [
    "import matplotlib.pyplot as plt\n",
    "plt.plot(history_dnn.history['acc'], marker='.', label='acc')\n",
    "plt.plot(history_dnn.history['val_acc'], marker='.', label='val_acc')\n",
    "plt.xlabel('epochs')\n",
    "plt.ylabel('accuracy')\n",
    "plt.show()"
   ]
  },
  {
   "cell_type": "markdown",
   "metadata": {},
   "source": [
    "### 深層学習モデルの保存\n",
    "\n",
    "```\n",
    "dnn.save('dnn.h5')\n",
    "```"
   ]
  },
  {
   "cell_type": "code",
   "execution_count": 84,
   "metadata": {},
   "outputs": [],
   "source": [
    "dnn.save('dnn.h5')"
   ]
  },
  {
   "cell_type": "markdown",
   "metadata": {},
   "source": [
    "### 更に深いネットワークの例"
   ]
  },
  {
   "cell_type": "code",
   "execution_count": 85,
   "metadata": {},
   "outputs": [
    {
     "name": "stdout",
     "output_type": "stream",
     "text": [
      "_________________________________________________________________\n",
      "Layer (type)                 Output Shape              Param #   \n",
      "=================================================================\n",
      "conv2d_3 (Conv2D)            (None, 32, 24, 24)        832       \n",
      "_________________________________________________________________\n",
      "max_pooling2d_3 (MaxPooling2 (None, 32, 12, 12)        0         \n",
      "_________________________________________________________________\n",
      "dropout_3 (Dropout)          (None, 32, 12, 12)        0         \n",
      "_________________________________________________________________\n",
      "conv2d_4 (Conv2D)            (None, 64, 10, 10)        18496     \n",
      "_________________________________________________________________\n",
      "max_pooling2d_4 (MaxPooling2 (None, 64, 5, 5)          0         \n",
      "_________________________________________________________________\n",
      "dropout_4 (Dropout)          (None, 64, 5, 5)          0         \n",
      "_________________________________________________________________\n",
      "flatten_3 (Flatten)          (None, 1600)              0         \n",
      "_________________________________________________________________\n",
      "dense_9 (Dense)              (None, 256)               409856    \n",
      "_________________________________________________________________\n",
      "dropout_5 (Dropout)          (None, 256)               0         \n",
      "_________________________________________________________________\n",
      "dense_10 (Dense)             (None, 10)                2570      \n",
      "=================================================================\n",
      "Total params: 431,754\n",
      "Trainable params: 431,754\n",
      "Non-trainable params: 0\n",
      "_________________________________________________________________\n"
     ]
    }
   ],
   "source": [
    "dnn2 = Sequential()\n",
    "dnn2.add(Conv2D(32, (5, 5), input_shape=(1, 28, 28), activation='relu'))\n",
    "dnn2.add(MaxPooling2D(pool_size=(2, 2)))\n",
    "dnn2.add(Dropout(0.25))\n",
    "dnn2.add(Conv2D(64, (3, 3), input_shape=(1, 28, 28), activation='relu'))\n",
    "dnn2.add(MaxPooling2D(pool_size=(2, 2),strides=(2,2)))\n",
    "dnn2.add(Dropout(0.25))\n",
    "dnn2.add(Flatten())\n",
    "dnn2.add(Dense(256, activation='relu'))\n",
    "dnn2.add(Dropout(0.5))\n",
    "dnn2.add(Dense(n_classes, activation='softmax'))\n",
    "\n",
    "dnn2.summary()\n",
    "dnn2.compile(loss='categorical_crossentropy', optimizer='adam', metrics=['accuracy'])"
   ]
  },
  {
   "cell_type": "markdown",
   "metadata": {},
   "source": [
    "### モデルの学習"
   ]
  },
  {
   "cell_type": "code",
   "execution_count": 86,
   "metadata": {},
   "outputs": [
    {
     "name": "stdout",
     "output_type": "stream",
     "text": [
      "Train on 1000 samples, validate on 1000 samples\n",
      "Epoch 1/8\n",
      "1000/1000 [==============================] - 3s 3ms/step - loss: 1.9426 - acc: 0.3520 - val_loss: 1.1492 - val_acc: 0.6990\n",
      "Epoch 2/8\n",
      "1000/1000 [==============================] - 2s 2ms/step - loss: 0.8691 - acc: 0.7130 - val_loss: 0.5655 - val_acc: 0.8180\n",
      "Epoch 3/8\n",
      "1000/1000 [==============================] - 2s 2ms/step - loss: 0.4929 - acc: 0.8510 - val_loss: 0.3651 - val_acc: 0.8970\n",
      "Epoch 4/8\n",
      "1000/1000 [==============================] - 2s 2ms/step - loss: 0.3469 - acc: 0.9000 - val_loss: 0.2870 - val_acc: 0.9130\n",
      "Epoch 5/8\n",
      "1000/1000 [==============================] - 2s 2ms/step - loss: 0.2298 - acc: 0.9310 - val_loss: 0.2727 - val_acc: 0.9050\n",
      "Epoch 6/8\n",
      "1000/1000 [==============================] - 3s 3ms/step - loss: 0.2065 - acc: 0.9420 - val_loss: 0.2442 - val_acc: 0.9190\n",
      "Epoch 7/8\n",
      "1000/1000 [==============================] - 2s 2ms/step - loss: 0.2013 - acc: 0.9390 - val_loss: 0.2294 - val_acc: 0.9230\n",
      "Epoch 8/8\n",
      "1000/1000 [==============================] - 3s 3ms/step - loss: 0.1579 - acc: 0.9440 - val_loss: 0.1759 - val_acc: 0.9410\n"
     ]
    }
   ],
   "source": [
    "history_dnn2 = dnn2.fit(x_train1_n, y_train_c,\n",
    "                        batch_size=32,\n",
    "                        epochs=8,\n",
    "                        verbose=1,\n",
    "                        validation_data=(x_test1_n, y_test_c))"
   ]
  },
  {
   "cell_type": "markdown",
   "metadata": {},
   "source": [
    "- history オブジェクトにある情報で，学習の進展を見る"
   ]
  },
  {
   "cell_type": "code",
   "execution_count": 87,
   "metadata": {},
   "outputs": [
    {
     "data": {
      "image/png": "[encoded data removed]",
      "text/plain": [
       "<Figure size 432x288 with 1 Axes>"
      ]
     },
     "metadata": {
      "needs_background": "light"
     },
     "output_type": "display_data"
    }
   ],
   "source": [
    "import matplotlib.pyplot as plt\n",
    "plt.plot(history_dnn2.history['acc'], marker='.', label='acc')\n",
    "plt.plot(history_dnn2.history['val_acc'], marker='.', label='val_acc')\n",
    "plt.xlabel('epochs')\n",
    "plt.ylabel('accuracy')\n",
    "plt.show()"
   ]
  },
  {
   "cell_type": "code",
   "execution_count": 88,
   "metadata": {},
   "outputs": [],
   "source": [
    "dnn2.save('dnn2.h5')"
   ]
  },
  {
   "cell_type": "markdown",
   "metadata": {},
   "source": [
    "## これまでに学習したモデルの性能を比較\n",
    "ここまで，\n",
    "\n",
    "* 単層パーセプトロン\n",
    "* 多層パーセプトロン\n",
    "* 深層学習\n",
    "\n",
    "を学習・評価しました．"
   ]
  },
  {
   "cell_type": "markdown",
   "metadata": {},
   "source": [
    "それぞれの，学習過程と認識結果はそれぞれ `history_*` と `score_*` に保存されています\n",
    "\n",
    "| 手法 | model | history | score |\n",
    "|:---:| :---: | :-----: | :---: |\n",
    "| 単層パーセプトロン | `perceptron` | `history_perceptron` | `score_perceptron` |\n",
    "| 多層パーセプトロン | `mlp` | `history_mlp` | `score_mlp` |\n",
    "| 深層学習 | `dnn` | `history_dnn` | `score_dnn` |\n",
    "| 深層学習 | `dnn2` | `history_dnn2` | `score_dnn2` |\n",
    "\n",
    "まずは，学習データに対する結果の比較"
   ]
  },
  {
   "cell_type": "code",
   "execution_count": 89,
   "metadata": {},
   "outputs": [
    {
     "data": {
      "image/png": "[encoded data removed]",
      "text/plain": [
       "<Figure size 432x288 with 1 Axes>"
      ]
     },
     "metadata": {
      "needs_background": "light"
     },
     "output_type": "display_data"
    }
   ],
   "source": [
    "plt.plot(history_perceptron.history['acc'], marker='.', color='r', label='perceptron')\n",
    "plt.plot(history_mlp.history['acc'], marker='.',color='g', label='mlp')\n",
    "plt.plot(history_dnn.history['acc'], marker='.', color='b', label='dnn')\n",
    "plt.plot(history_dnn2.history['acc'], marker='.', color='k', label='dnn2')\n",
    "plt.xlabel('epochs')\n",
    "plt.ylabel('accuracy')\n",
    "plt.legend()\n",
    "plt.show()"
   ]
  },
  {
   "cell_type": "markdown",
   "metadata": {},
   "source": [
    "モデルごとの識別率を比較してみてください"
   ]
  },
  {
   "cell_type": "markdown",
   "metadata": {},
   "source": [
    "次に，テストデータに対する結果の比較"
   ]
  },
  {
   "cell_type": "code",
   "execution_count": 90,
   "metadata": {},
   "outputs": [
    {
     "data": {
      "image/png": "[encoded data removed]",
      "text/plain": [
       "<Figure size 432x288 with 1 Axes>"
      ]
     },
     "metadata": {
      "needs_background": "light"
     },
     "output_type": "display_data"
    }
   ],
   "source": [
    "plt.plot(history_perceptron.history['val_acc'], marker='.', color='r', label='perceptron')\n",
    "plt.plot(history_mlp.history['val_acc'], marker='.', color='g', label='mlp')\n",
    "plt.plot(history_dnn.history['val_acc'], marker='.', color='b', label='dnn')\n",
    "plt.plot(history_dnn2.history['val_acc'], marker='.', color='k', label='dnn2')\n",
    "plt.xlabel('epochs')\n",
    "plt.ylabel('accuracy')\n",
    "plt.legend()\n",
    "plt.show()"
   ]
  }
 ],
 "metadata": {
  "kernelspec": {
   "display_name": "Python 3",
   "language": "python",
   "name": "python3"
  },
  "language_info": {
   "codemirror_mode": {
    "name": "ipython",
    "version": 3
   },
   "file_extension": ".py",
   "mimetype": "text/x-python",
   "name": "python",
   "nbconvert_exporter": "python",
   "pygments_lexer": "ipython3",
   "version": "3.7.3"
  }
 },
 "nbformat": 4,
 "nbformat_minor": 2
}
